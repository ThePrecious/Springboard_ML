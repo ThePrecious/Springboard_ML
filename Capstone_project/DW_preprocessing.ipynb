{
 "cells": [
  {
   "cell_type": "markdown",
   "metadata": {},
   "source": [
    "# Data Wrangling and Exploration\n"
   ]
  },
  {
   "cell_type": "code",
   "execution_count": null,
   "metadata": {},
   "outputs": [],
   "source": [
    "import pandas as pd\n",
    "import numpy as np\n",
    "import os\n",
    "import glob\n",
    "from PIL import Image\n",
    "import cv2\n",
    "import pyCAIR as pycair\n",
    "\n",
    "from skimage import io, transform, util\n",
    "import matplotlib.pyplot as plt"
   ]
  },
  {
   "cell_type": "markdown",
   "metadata": {},
   "source": [
    "\n",
    "1. Functions to perform data augmentation (for self supervised learning)\n",
    "2. Heap map analysis (after seam carving, generate heat map of masks)"
   ]
  },
  {
   "cell_type": "code",
   "execution_count": null,
   "metadata": {},
   "outputs": [],
   "source": [
    "image_dir = \"/Users/Amulya/workspace/springboard/Capstone_Project/data/images\"\n",
    "image_files = glob.glob(os.path.join(image_dir,'*.jpg'))"
   ]
  },
  {
   "cell_type": "code",
   "execution_count": null,
   "metadata": {},
   "outputs": [],
   "source": [
    "# Image Augmentation Functions\n",
    "\n",
    "def patches(data):\n",
    "    for i in range(0,50):\n",
    "        r_i = random.randint(0, width-1)\n",
    "        c_i = random.randint(0, height-1)\n",
    "\n",
    "        r = random.randint(0, 50)\n",
    "        c = random.randint(0, 50)\n",
    "    \n",
    "        data[r_i:r_i+r, c_i:c_i+c] =0\n",
    "    \n",
    "    return data\n",
    "\n",
    "def zigzag(data):\n",
    "    n_random_lines = 80\n",
    "    width, height = pic.size\n",
    "    n_pixels = 5\n",
    "\n",
    "    for i in range(n_random_lines):\n",
    "        r_i = random.randint(0, width-1)\n",
    "        for j in range(height//n_pixels):\n",
    "            shift = random.choice([ -10, -1, 1, -2, 2, 10])\n",
    "        \n",
    "            if j%3 == 0:\n",
    "                data[j*n_pixels : (j+1) * n_pixels, (r_i + shift)  % width] = 0\n",
    "            elif j%3 == 1: \n",
    "                data[j*n_pixels : (j+1) * n_pixels, r_i] = 0\n",
    "            else:\n",
    "                data[j*n_pixels : (j+1) * n_pixels, (r_i + shift)  % width] = 0\n",
    "                \n",
    "    return data\n",
    "\n",
    "def straightlines(data):\n",
    "    width, height = 480, 364\n",
    "    n_random_lines = 80\n",
    "    #store_random = []\n",
    "    r_index = []    \n",
    "    for j in range(n_random_lines):\n",
    "        r_i = random.randint(0, width-1)\n",
    "        r_index.append(r_i)\n",
    "        data[:, r_i] = 0\n",
    "    #store_random.append(r_index)\n",
    "    #image_arrays.append(image_array)\n",
    "    #return data, store_random\n",
    "    return data\n",
    "\n",
    "def flipped_image(data):\n",
    "    data = np.fliplr(data)\n",
    "    return data\n"
   ]
  },
  {
   "cell_type": "code",
   "execution_count": null,
   "metadata": {},
   "outputs": [],
   "source": [
    "train_image_files = []\n",
    "\n",
    "for i in range(0,len(image_files)):\n",
    "    image = Image.open(image_files[i])\n",
    "    image = image.resize((480, 364))\n",
    "    \n",
    "    #convert image to numpy array\n",
    "    data = np.array(image)\n",
    "    \n",
    "    # patches\n",
    "    if i%4 == 0:\n",
    "        data = patches(data)\n",
    "        train_image_files.append(data)\n",
    "        \n",
    "    elif i%4 == 1:\n",
    "        data = zigzag(data)\n",
    "        train_image_files.append(data)\n",
    "    \n",
    "    elif i%4 == 2:\n",
    "        data = straightlines(data)\n",
    "        train_image_files.append(data)\n",
    "        \n",
    "    else:\n",
    "        data = flipped_image(data)\n",
    "        train_image_files.append(data)\n",
    "        \n",
    "        \n",
    "        \n",
    "        "
   ]
  },
  {
   "cell_type": "markdown",
   "metadata": {},
   "source": [
    "### Heat Map analysis"
   ]
  },
  {
   "cell_type": "code",
   "execution_count": null,
   "metadata": {},
   "outputs": [],
   "source": [
    "#After seam carving , collect the mask and check the seam distribution using heat maps\n",
    "\n",
    "sm_dir = \"/Users/Amulya/workspace/springboard/Capstone_Project/su-net/unet_results/seam_output/masks\"\n",
    "sm_files = glob.glob(os.path.join(sm_dir,'*.jpg'))\n",
    "\n",
    "#heat map for seam carved mask\n",
    "a = np.zeros([384, 496])\n",
    "for f in sm_files:\n",
    "    b = Image.open(f)\n",
    "    b = np.array(b)\n",
    "    #print(b.shape) #(384, 496)\n",
    "    c = np.add(a, b)\n",
    "    a = c\n",
    "print(c)\n",
    "\n",
    "plt.imshow(c)\n"
   ]
  },
  {
   "cell_type": "code",
   "execution_count": null,
   "metadata": {},
   "outputs": [],
   "source": [
    "#If the heat map is heavily imbalanced - try to balance it like this -\n",
    "\n",
    "def pixel_ratios(sm_files):\n",
    "    # Calculates the ratio of number of seam pixel in the mask split\n",
    "    for f in sm_files:\n",
    "        a = Image.open(f)\n",
    "        w, h = a.size\n",
    "        a = np.array(a)\n",
    "        b = 0\n",
    "        split_sum_list = []\n",
    "        for i in range(0,4):\n",
    "            split = a[:, b:int(b+w/4)-1] \n",
    "            b = b+int(w/4)\n",
    "            #print(\"b is\" , b)\n",
    "            #print(split)\n",
    "            split_sum_list.append(np.sum(split))\n",
    "        ratio = split_sum_list/ np.linalg.norm(split_sum_list)\n",
    "        #print (ratio)\n",
    "        ratios.append(ratio)\n",
    "    return ratios"
   ]
  },
  {
   "cell_type": "code",
   "execution_count": null,
   "metadata": {},
   "outputs": [],
   "source": [
    "ratios = []\n",
    "ratios = pixel_ratios(sm_files)"
   ]
  },
  {
   "cell_type": "code",
   "execution_count": null,
   "metadata": {},
   "outputs": [],
   "source": [
    "split_1 = []\n",
    "split_2 = []\n",
    "split_3 = []\n",
    "split_4 = []\n",
    "few_seams = []\n",
    "\n",
    "for i in range(0, len(ratios)):\n",
    "    if ratios[i][0] > 0.5:\n",
    "        split_1.append(i)\n",
    "    elif ratios[i][1] > 0.5:\n",
    "        split_2.append(i)\n",
    "    elif ratios[i][2] > 0.5:\n",
    "        split_3.append(i)\n",
    "    elif ratios[i][3] > 0.5:\n",
    "        split_4.append(i)\n",
    "    else:\n",
    "        few_seams.append(i)"
   ]
  },
  {
   "cell_type": "code",
   "execution_count": null,
   "metadata": {},
   "outputs": [],
   "source": [
    "#Create a folder for balanced masks\n",
    "import shutil, os\n",
    "balanced_mask_dir = \"/Users/Amulya/workspace/springboard/Capstone_Project/su-net/unet_results/seam_output/balanced_mask\"\n",
    "\n",
    "for i in range(0, 226):\n",
    "    f = sm_files[split_4[i]]\n",
    "    shutil.copy(f, balanced_mask_dir)"
   ]
  }
 ],
 "metadata": {
  "kernelspec": {
   "display_name": "Python 3",
   "language": "python",
   "name": "python3"
  },
  "language_info": {
   "codemirror_mode": {
    "name": "ipython",
    "version": 3
   },
   "file_extension": ".py",
   "mimetype": "text/x-python",
   "name": "python",
   "nbconvert_exporter": "python",
   "pygments_lexer": "ipython3",
   "version": "3.6.5"
  }
 },
 "nbformat": 4,
 "nbformat_minor": 2
}
